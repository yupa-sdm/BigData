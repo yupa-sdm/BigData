{
 "cells": [
  {
   "cell_type": "code",
   "execution_count": 17,
   "metadata": {},
   "outputs": [
    {
     "name": "stdout",
     "output_type": "stream",
     "text": [
      "สูตรคูณแม่2\n",
      "2 * 1 = 2\n",
      "2 * 2 = 4\n",
      "2 * 3 = 6\n",
      "2 * 4 = 8\n",
      "2 * 5 = 10\n",
      "2 * 6 = 12\n",
      "2 * 7 = 14\n",
      "2 * 8 = 16\n",
      "2 * 9 = 18\n",
      "2 * 10 = 20\n",
      "2 * 11 = 22\n",
      "2 * 12 = 24\n"
     ]
    }
   ],
   "source": [
    "def multiple_table(n):\n",
    "    row = 12\n",
    "    print('สูตรคูณแม่'+str(n))\n",
    "    for i in range (1, 12 + 1):\n",
    "        print(\"%d * %d = %d\" % (n, i, n * i))\n",
    "    #range (1, 12 + 1) คือการสร้างชุดตัวเลข ตั้งแต่ 1 - 12\n",
    "\n",
    "multiple_table(2)"
   ]
  }
 ],
 "metadata": {
  "interpreter": {
   "hash": "20e94fdcf5dd36945a318af8549b9005a372ec7b8f0803299839a86e6871afaf"
  },
  "kernelspec": {
   "display_name": "Python 3.8.8 64-bit ('base': conda)",
   "language": "python",
   "name": "python3"
  },
  "language_info": {
   "codemirror_mode": {
    "name": "ipython",
    "version": 3
   },
   "file_extension": ".py",
   "mimetype": "text/x-python",
   "name": "python",
   "nbconvert_exporter": "python",
   "pygments_lexer": "ipython3",
   "version": "3.8.8"
  },
  "orig_nbformat": 4
 },
 "nbformat": 4,
 "nbformat_minor": 2
}
